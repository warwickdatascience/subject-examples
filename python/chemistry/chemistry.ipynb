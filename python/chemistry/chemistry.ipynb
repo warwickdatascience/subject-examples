{
 "cells": [
  {
   "cell_type": "markdown",
   "metadata": {},
   "source": [
    "# Molecular Similarity"
   ]
  },
  {
   "cell_type": "markdown",
   "metadata": {},
   "source": [
    "## Introduction"
   ]
  },
  {
   "cell_type": "markdown",
   "metadata": {},
   "source": [
    "### Problem Statement"
   ]
  },
  {
   "cell_type": "markdown",
   "metadata": {},
   "source": [
    "Drug development is costly and time-consuming, with a high failure rate. We therefore want to be able to virtually screen molecules to find those that have a high probability of having desirable properties. One simple approach is to start from a target molecule and search through a large database of molecules to find those that have a high degree of chemical similarity. Specifically, we can take a database of molucular [SMILES strings](https://en.wikipedia.org/wiki/Simplified_molecular-input_line-entry_system) (a text representation of a molucule's structure), encode these into a practical representation of the molecule known as a fingerprint, and search for close matches using a similarity metric. This allows us to screen thousands of molecules with little, to then direct the attention of chemists to promising candidates."
   ]
  },
  {
   "cell_type": "markdown",
   "metadata": {},
   "source": [
    "### Resources"
   ]
  },
  {
   "cell_type": "markdown",
   "metadata": {},
   "source": [
    "Our database of SMILES was taken from [ChEMBL](https://www.ebi.ac.uk/chembl/g/#search_results/compounds/state=eyJsaXN0c19zdGF0ZXMiOnsiQ09NUE9VTkQiOnsic2V0dGluZ3NfcGF0aCI6IkVTX0lOREVYRVMuQ09NUE9VTkQiLCJjdXN0b21fcXVlcnkiOiIqIiwidXNlX2N1c3RvbV9xdWVyeSI6ZmFsc2V9fX0%3D). This provides far too many features, resulting in an incredibly large download. We therefore created a preprocessing script `process_raw_data.py` which takes the entire database and reduces it to around 40,000 name-SMILES pairs which can be found in `smiles.csv`."
   ]
  },
  {
   "cell_type": "markdown",
   "metadata": {},
   "source": [
    "### Non-course Techniques"
   ]
  },
  {
   "cell_type": "markdown",
   "metadata": {},
   "source": [
    "We will take advantage of a package called `rdkit`, a power set of tools for computational chemistry. We also use the package `tqdm` to provide a progress bar for our search."
   ]
  },
  {
   "cell_type": "markdown",
   "metadata": {},
   "source": [
    "## Setup"
   ]
  },
  {
   "cell_type": "markdown",
   "metadata": {},
   "source": [
    "We begin by importing any relevant modules and setting the logging parameters for `rdkit`."
   ]
  },
  {
   "cell_type": "code",
   "execution_count": 1,
   "metadata": {},
   "outputs": [],
   "source": [
    "from rdkit import Chem, DataStructs, RDLogger\n",
    "from rdkit.Chem import AllChem, Draw\n",
    "from tqdm.notebook import tqdm"
   ]
  },
  {
   "cell_type": "code",
   "execution_count": 2,
   "metadata": {},
   "outputs": [],
   "source": [
    "# Ignore warnings\n",
    "RDLogger.DisableLog('rdApp.*') "
   ]
  },
  {
   "cell_type": "markdown",
   "metadata": {},
   "source": [
    "## Import"
   ]
  },
  {
   "cell_type": "markdown",
   "metadata": {},
   "source": [
    "We start by reading the pre-processed data into a list of lines."
   ]
  },
  {
   "cell_type": "code",
   "execution_count": 3,
   "metadata": {},
   "outputs": [
    {
     "name": "stdout",
     "output_type": "stream",
     "text": [
      "Name\tSmiles\n"
     ]
    }
   ],
   "source": [
    "with open('smiles.csv') as f:\n",
    "    lines = f.read().split('\\n')\n",
    "    print(lines[0])\n",
    "    # Remove header and empty final line\n",
    "    del lines[0]\n",
    "    del lines[-1]"
   ]
  },
  {
   "cell_type": "markdown",
   "metadata": {},
   "source": [
    "We can then loop through these lines to extract the molecule names and SMILESs"
   ]
  },
  {
   "cell_type": "code",
   "execution_count": 4,
   "metadata": {},
   "outputs": [],
   "source": [
    "molecules = []\n",
    "for l in lines:\n",
    "    elements = l.split('\\t')\n",
    "    molecules.append({\n",
    "        'name': elements[0],\n",
    "        'smiles': elements[1]\n",
    "    })"
   ]
  },
  {
   "cell_type": "markdown",
   "metadata": {},
   "source": [
    "## Search"
   ]
  },
  {
   "cell_type": "markdown",
   "metadata": {},
   "source": [
    "We write a function to take a query SMILES string and search through the database for the closest match. To do this, we have to convert the SMILES to an `rdkit` molucule using `Chem.MolFromSmiles` and then calculate a molucular fingerprint using `Chem.RDKFingerprint`. We can then find the similarity of two fingerprints with `DataStructs.FingerprintSimilarity`."
   ]
  },
  {
   "cell_type": "code",
   "execution_count": 11,
   "metadata": {},
   "outputs": [],
   "source": [
    "def most_similar(query_smiles):\n",
    "    max_similarity = 0\n",
    "    # Transforming the input variable into the necessary format\n",
    "    query_fp = Chem.RDKFingerprint(Chem.MolFromSmiles(query_smiles))\n",
    "    # Loop for finding maximum similarity\n",
    "    for test_mol in tqdm(molecules, desc='Searching database'):\n",
    "        # Transformating each encountered variable into the necessary format\n",
    "        test_fp = Chem.RDKFingerprint(Chem.MolFromSmiles(test_mol['smiles']))\n",
    "        similarity = DataStructs.FingerprintSimilarity(test_fp, query_fp)\n",
    "        # Similarity has to be lower than 1 to avoid just finding the input variable in the dataset\n",
    "        if max_similarity < similarity < 1:\n",
    "            max_similarity = similarity\n",
    "            best_mol = test_mol\n",
    "    return best_mol"
   ]
  },
  {
   "cell_type": "markdown",
   "metadata": {},
   "source": [
    "We can now ask the user for a SMILES string to query and search for the best match."
   ]
  },
  {
   "cell_type": "code",
   "execution_count": 6,
   "metadata": {},
   "outputs": [
    {
     "name": "stdin",
     "output_type": "stream",
     "text": [
      "Input a valid SMILES string:\n",
      " C(C1C(C(C(C(O1)O)O)O)O)O\n"
     ]
    }
   ],
   "source": [
    "# E.g. 'C(C1C(C(C(C(O1)O)O)O)O)O' for glucose\n",
    "query_smiles = input(\"Input a valid SMILES string:\\n\")"
   ]
  },
  {
   "cell_type": "code",
   "execution_count": 7,
   "metadata": {},
   "outputs": [
    {
     "data": {
      "application/vnd.jupyter.widget-view+json": {
       "model_id": "1f03c6c7315b463fbe0015e24e603a06",
       "version_major": 2,
       "version_minor": 0
      },
      "text/plain": [
       "HBox(children=(FloatProgress(value=0.0, description='Searching database', max=39912.0, style=ProgressStyle(des…"
      ]
     },
     "metadata": {},
     "output_type": "display_data"
    },
    {
     "name": "stdout",
     "output_type": "stream",
     "text": [
      "\n"
     ]
    }
   ],
   "source": [
    "best_mol = most_similar(query_smiles)"
   ]
  },
  {
   "cell_type": "code",
   "execution_count": 8,
   "metadata": {},
   "outputs": [
    {
     "name": "stdout",
     "output_type": "stream",
     "text": [
      "The best match was:\n",
      "L-Fucose\n",
      "C[C@@H]1OC(O)[C@@H](O)[C@H](O)[C@@H]1O\n"
     ]
    }
   ],
   "source": [
    "print(\"The best match was:\")\n",
    "print(best_mol['name'])\n",
    "print(best_mol['smiles'])"
   ]
  },
  {
   "cell_type": "markdown",
   "metadata": {},
   "source": [
    "## Visualisation"
   ]
  },
  {
   "cell_type": "markdown",
   "metadata": {},
   "source": [
    "Finally, we can visualise the query and best match molecules."
   ]
  },
  {
   "cell_type": "code",
   "execution_count": 9,
   "metadata": {},
   "outputs": [],
   "source": [
    "query_m = Chem.MolFromSmiles(query_smiles)\n",
    "match_m = Chem.MolFromSmiles(best_mol['smiles'])"
   ]
  },
  {
   "cell_type": "code",
   "execution_count": 10,
   "metadata": {},
   "outputs": [
    {
     "data": {
      "image/svg+xml": [
       "<svg xmlns=\"http://www.w3.org/2000/svg\" xmlns:rdkit=\"http://www.rdkit.org/xml\" xmlns:xlink=\"http://www.w3.org/1999/xlink\" version=\"1.1\" baseProfile=\"full\" xml:space=\"preserve\" width=\"400px\" height=\"200px\" viewBox=\"0 0 400 200\">\n",
       "<!-- END OF HEADER -->\n",
       "<rect style=\"opacity:1.0;fill:#FFFFFF;stroke:none\" width=\"400\" height=\"200\" x=\"0\" y=\"0\"> </rect>\n",
       "<rect style=\"opacity:1.0;fill:#FFFFFF;stroke:none\" width=\"400\" height=\"200\" x=\"0\" y=\"0\"> </rect>\n",
       "<rect style=\"opacity:1.0;fill:#FFFFFF;stroke:none\" width=\"400\" height=\"200\" x=\"0\" y=\"0\"> </rect>\n",
       "<path class=\"bond-0\" d=\"M 157.347,104.857 L 124.083,102.428\" style=\"fill:none;fill-rule:evenodd;stroke:#000000;stroke-width:2px;stroke-linecap:butt;stroke-linejoin:miter;stroke-opacity:1\"/>\n",
       "<path class=\"bond-10\" d=\"M 157.347,104.857 L 164.827,93.8394\" style=\"fill:none;fill-rule:evenodd;stroke:#000000;stroke-width:2px;stroke-linecap:butt;stroke-linejoin:miter;stroke-opacity:1\"/>\n",
       "<path class=\"bond-10\" d=\"M 164.827,93.8394 L 172.307,82.8222\" style=\"fill:none;fill-rule:evenodd;stroke:#FF0000;stroke-width:2px;stroke-linecap:butt;stroke-linejoin:miter;stroke-opacity:1\"/>\n",
       "<path class=\"bond-1\" d=\"M 124.083,102.428 L 105.348,130.021\" style=\"fill:none;fill-rule:evenodd;stroke:#000000;stroke-width:2px;stroke-linecap:butt;stroke-linejoin:miter;stroke-opacity:1\"/>\n",
       "<path class=\"bond-11\" d=\"M 124.083,102.428 L 118.164,90.197\" style=\"fill:none;fill-rule:evenodd;stroke:#000000;stroke-width:2px;stroke-linecap:butt;stroke-linejoin:miter;stroke-opacity:1\"/>\n",
       "<path class=\"bond-11\" d=\"M 118.164,90.197 L 112.244,77.9657\" style=\"fill:none;fill-rule:evenodd;stroke:#FF0000;stroke-width:2px;stroke-linecap:butt;stroke-linejoin:miter;stroke-opacity:1\"/>\n",
       "<path class=\"bond-2\" d=\"M 105.348,130.021 L 72.0847,127.593\" style=\"fill:none;fill-rule:evenodd;stroke:#000000;stroke-width:2px;stroke-linecap:butt;stroke-linejoin:miter;stroke-opacity:1\"/>\n",
       "<path class=\"bond-9\" d=\"M 105.348,130.021 L 111.268,142.253\" style=\"fill:none;fill-rule:evenodd;stroke:#000000;stroke-width:2px;stroke-linecap:butt;stroke-linejoin:miter;stroke-opacity:1\"/>\n",
       "<path class=\"bond-9\" d=\"M 111.268,142.253 L 117.187,154.484\" style=\"fill:none;fill-rule:evenodd;stroke:#FF0000;stroke-width:2px;stroke-linecap:butt;stroke-linejoin:miter;stroke-opacity:1\"/>\n",
       "<path class=\"bond-3\" d=\"M 72.0847,127.593 L 57.5558,97.5717\" style=\"fill:none;fill-rule:evenodd;stroke:#000000;stroke-width:2px;stroke-linecap:butt;stroke-linejoin:miter;stroke-opacity:1\"/>\n",
       "<path class=\"bond-8\" d=\"M 72.0847,127.593 L 64.6044,138.61\" style=\"fill:none;fill-rule:evenodd;stroke:#000000;stroke-width:2px;stroke-linecap:butt;stroke-linejoin:miter;stroke-opacity:1\"/>\n",
       "<path class=\"bond-8\" d=\"M 64.6044,138.61 L 57.1241,149.627\" style=\"fill:none;fill-rule:evenodd;stroke:#FF0000;stroke-width:2px;stroke-linecap:butt;stroke-linejoin:miter;stroke-opacity:1\"/>\n",
       "<path class=\"bond-4\" d=\"M 57.5558,97.5717 L 76.2906,69.9787\" style=\"fill:none;fill-rule:evenodd;stroke:#000000;stroke-width:2px;stroke-linecap:butt;stroke-linejoin:miter;stroke-opacity:1\"/>\n",
       "<path class=\"bond-7\" d=\"M 57.5558,97.5717 L 43.333,96.5334\" style=\"fill:none;fill-rule:evenodd;stroke:#000000;stroke-width:2px;stroke-linecap:butt;stroke-linejoin:miter;stroke-opacity:1\"/>\n",
       "<path class=\"bond-7\" d=\"M 43.333,96.5334 L 29.1102,95.4952\" style=\"fill:none;fill-rule:evenodd;stroke:#FF0000;stroke-width:2px;stroke-linecap:butt;stroke-linejoin:miter;stroke-opacity:1\"/>\n",
       "<path class=\"bond-5\" d=\"M 76.2906,69.9787 L 90.3266,71.0034\" style=\"fill:none;fill-rule:evenodd;stroke:#000000;stroke-width:2px;stroke-linecap:butt;stroke-linejoin:miter;stroke-opacity:1\"/>\n",
       "<path class=\"bond-5\" d=\"M 90.3266,71.0034 L 104.363,72.028\" style=\"fill:none;fill-rule:evenodd;stroke:#FF0000;stroke-width:2px;stroke-linecap:butt;stroke-linejoin:miter;stroke-opacity:1\"/>\n",
       "<path class=\"bond-6\" d=\"M 76.2906,69.9787 L 70.3712,57.7474\" style=\"fill:none;fill-rule:evenodd;stroke:#000000;stroke-width:2px;stroke-linecap:butt;stroke-linejoin:miter;stroke-opacity:1\"/>\n",
       "<path class=\"bond-6\" d=\"M 70.3712,57.7474 L 64.4519,45.5161\" style=\"fill:none;fill-rule:evenodd;stroke:#FF0000;stroke-width:2px;stroke-linecap:butt;stroke-linejoin:miter;stroke-opacity:1\"/>\n",
       "<text dominant-baseline=\"central\" text-anchor=\"start\" x=\"105.474\" y=\"74.0746\" style=\"font-size:11px;font-style:normal;font-weight:normal;fill-opacity:1;stroke:none;font-family:sans-serif;fill:#FF0000\"><tspan>O</tspan></text>\n",
       "<text dominant-baseline=\"central\" text-anchor=\"end\" x=\"65.8417\" y=\"41.625\" style=\"font-size:11px;font-style:normal;font-weight:normal;fill-opacity:1;stroke:none;font-family:sans-serif;fill:#FF0000\"><tspan>HO</tspan></text>\n",
       "<text dominant-baseline=\"central\" text-anchor=\"end\" x=\"28.3722\" y=\"96.8111\" style=\"font-size:11px;font-style:normal;font-weight:normal;fill-opacity:1;stroke:none;font-family:sans-serif;fill:#FF0000\"><tspan>HO</tspan></text>\n",
       "<text dominant-baseline=\"central\" text-anchor=\"end\" x=\"57.4299\" y=\"156.854\" style=\"font-size:11px;font-style:normal;font-weight:normal;fill-opacity:1;stroke:none;font-family:sans-serif;fill:#FF0000\"><tspan>HO</tspan></text>\n",
       "<text dominant-baseline=\"central\" text-anchor=\"start\" x=\"115.797\" y=\"161.71\" style=\"font-size:11px;font-style:normal;font-weight:normal;fill-opacity:1;stroke:none;font-family:sans-serif;fill:#FF0000\"><tspan>OH</tspan></text>\n",
       "<text dominant-baseline=\"central\" text-anchor=\"start\" x=\"172.002\" y=\"78.9311\" style=\"font-size:11px;font-style:normal;font-weight:normal;fill-opacity:1;stroke:none;font-family:sans-serif;fill:#FF0000\"><tspan>OH</tspan></text>\n",
       "<text dominant-baseline=\"central\" text-anchor=\"middle\" x=\"100\" y=\"189.8\" style=\"font-size:12px;font-style:normal;font-weight:normal;fill-opacity:1;stroke:none;font-family:sans-serif;fill:#000000\"><tspan>Query</tspan></text>\n",
       "<path class=\"bond-0\" d=\"M 328.222,128.705 L 328.778,127.742\" style=\"fill:none;fill-rule:evenodd;stroke:#000000;stroke-width:2px;stroke-linecap:butt;stroke-linejoin:miter;stroke-opacity:1\"/>\n",
       "<path class=\"bond-0\" d=\"M 332.758,131.966 L 333.87,130.04\" style=\"fill:none;fill-rule:evenodd;stroke:#000000;stroke-width:2px;stroke-linecap:butt;stroke-linejoin:miter;stroke-opacity:1\"/>\n",
       "<path class=\"bond-0\" d=\"M 337.294,135.226 L 338.962,132.338\" style=\"fill:none;fill-rule:evenodd;stroke:#000000;stroke-width:2px;stroke-linecap:butt;stroke-linejoin:miter;stroke-opacity:1\"/>\n",
       "<path class=\"bond-0\" d=\"M 341.83,138.487 L 344.054,134.636\" style=\"fill:none;fill-rule:evenodd;stroke:#000000;stroke-width:2px;stroke-linecap:butt;stroke-linejoin:miter;stroke-opacity:1\"/>\n",
       "<path class=\"bond-0\" d=\"M 346.366,141.748 L 349.145,136.934\" style=\"fill:none;fill-rule:evenodd;stroke:#000000;stroke-width:2px;stroke-linecap:butt;stroke-linejoin:miter;stroke-opacity:1\"/>\n",
       "<path class=\"bond-0\" d=\"M 350.902,145.009 L 354.237,139.232\" style=\"fill:none;fill-rule:evenodd;stroke:#000000;stroke-width:2px;stroke-linecap:butt;stroke-linejoin:miter;stroke-opacity:1\"/>\n",
       "<path class=\"bond-1\" d=\"M 323.686,125.444 L 311.84,132.284\" style=\"fill:none;fill-rule:evenodd;stroke:#000000;stroke-width:2px;stroke-linecap:butt;stroke-linejoin:miter;stroke-opacity:1\"/>\n",
       "<path class=\"bond-1\" d=\"M 311.84,132.284 L 299.994,139.123\" style=\"fill:none;fill-rule:evenodd;stroke:#FF0000;stroke-width:2px;stroke-linecap:butt;stroke-linejoin:miter;stroke-opacity:1\"/>\n",
       "<path class=\"bond-10\" d=\"M 323.686,125.444 L 323.686,92.0921\" style=\"fill:none;fill-rule:evenodd;stroke:#000000;stroke-width:2px;stroke-linecap:butt;stroke-linejoin:miter;stroke-opacity:1\"/>\n",
       "<path class=\"bond-2\" d=\"M 289.611,139.123 L 277.764,132.284\" style=\"fill:none;fill-rule:evenodd;stroke:#FF0000;stroke-width:2px;stroke-linecap:butt;stroke-linejoin:miter;stroke-opacity:1\"/>\n",
       "<path class=\"bond-2\" d=\"M 277.764,132.284 L 265.918,125.444\" style=\"fill:none;fill-rule:evenodd;stroke:#000000;stroke-width:2px;stroke-linecap:butt;stroke-linejoin:miter;stroke-opacity:1\"/>\n",
       "<path class=\"bond-3\" d=\"M 265.918,125.444 L 253.885,132.391\" style=\"fill:none;fill-rule:evenodd;stroke:#000000;stroke-width:2px;stroke-linecap:butt;stroke-linejoin:miter;stroke-opacity:1\"/>\n",
       "<path class=\"bond-3\" d=\"M 253.885,132.391 L 241.853,139.339\" style=\"fill:none;fill-rule:evenodd;stroke:#FF0000;stroke-width:2px;stroke-linecap:butt;stroke-linejoin:miter;stroke-opacity:1\"/>\n",
       "<path class=\"bond-4\" d=\"M 265.918,125.444 L 265.918,92.0921\" style=\"fill:none;fill-rule:evenodd;stroke:#000000;stroke-width:2px;stroke-linecap:butt;stroke-linejoin:miter;stroke-opacity:1\"/>\n",
       "<path class=\"bond-5\" d=\"M 265.918,92.0921 L 254.719,83.7007 L 253.052,86.5891 Z\" style=\"fill:#000000;fill-rule:evenodd;fill-opacity=1;stroke:#000000;stroke-width:2px;stroke-linecap:butt;stroke-linejoin:miter;stroke-opacity:1;\"/>\n",
       "<path class=\"bond-5\" d=\"M 254.719,83.7007 L 240.185,81.0861 L 243.52,75.3093 Z\" style=\"fill:#FF0000;fill-rule:evenodd;fill-opacity=1;stroke:#FF0000;stroke-width:2px;stroke-linecap:butt;stroke-linejoin:miter;stroke-opacity:1;\"/>\n",
       "<path class=\"bond-5\" d=\"M 254.719,83.7007 L 253.052,86.5891 L 240.185,81.0861 Z\" style=\"fill:#FF0000;fill-rule:evenodd;fill-opacity=1;stroke:#FF0000;stroke-width:2px;stroke-linecap:butt;stroke-linejoin:miter;stroke-opacity:1;\"/>\n",
       "<path class=\"bond-6\" d=\"M 265.918,92.0921 L 294.802,75.416\" style=\"fill:none;fill-rule:evenodd;stroke:#000000;stroke-width:2px;stroke-linecap:butt;stroke-linejoin:miter;stroke-opacity:1\"/>\n",
       "<path class=\"bond-7\" d=\"M 295.914,66.1515 L 293.69,66.1515\" style=\"fill:none;fill-rule:evenodd;stroke:#000000;stroke-width:2px;stroke-linecap:butt;stroke-linejoin:miter;stroke-opacity:1\"/>\n",
       "<path class=\"bond-7\" d=\"M 297.026,56.8871 L 292.579,56.8871\" style=\"fill:none;fill-rule:evenodd;stroke:#FF0000;stroke-width:2px;stroke-linecap:butt;stroke-linejoin:miter;stroke-opacity:1\"/>\n",
       "<path class=\"bond-7\" d=\"M 298.137,47.6226 L 291.467,47.6226\" style=\"fill:none;fill-rule:evenodd;stroke:#FF0000;stroke-width:2px;stroke-linecap:butt;stroke-linejoin:miter;stroke-opacity:1\"/>\n",
       "<path class=\"bond-8\" d=\"M 294.802,75.416 L 323.686,92.0921\" style=\"fill:none;fill-rule:evenodd;stroke:#000000;stroke-width:2px;stroke-linecap:butt;stroke-linejoin:miter;stroke-opacity:1\"/>\n",
       "<path class=\"bond-9\" d=\"M 332.139,88.4953 L 331.027,86.5697\" style=\"fill:none;fill-rule:evenodd;stroke:#000000;stroke-width:2px;stroke-linecap:butt;stroke-linejoin:miter;stroke-opacity:1\"/>\n",
       "<path class=\"bond-9\" d=\"M 340.592,84.8986 L 338.369,81.0474\" style=\"fill:none;fill-rule:evenodd;stroke:#FF0000;stroke-width:2px;stroke-linecap:butt;stroke-linejoin:miter;stroke-opacity:1\"/>\n",
       "<path class=\"bond-9\" d=\"M 349.046,81.3018 L 345.71,75.525\" style=\"fill:none;fill-rule:evenodd;stroke:#FF0000;stroke-width:2px;stroke-linecap:butt;stroke-linejoin:miter;stroke-opacity:1\"/>\n",
       "<text dominant-baseline=\"central\" text-anchor=\"middle\" x=\"294.802\" y=\"143.788\" style=\"font-size:11px;font-style:normal;font-weight:normal;fill-opacity:1;stroke:none;font-family:sans-serif;fill:#FF0000\"><tspan>O</tspan></text>\n",
       "<text dominant-baseline=\"central\" text-anchor=\"end\" x=\"241.115\" y=\"143.788\" style=\"font-size:11px;font-style:normal;font-weight:normal;fill-opacity:1;stroke:none;font-family:sans-serif;fill:#FF0000\"><tspan>HO</tspan></text>\n",
       "<text dominant-baseline=\"central\" text-anchor=\"end\" x=\"241.115\" y=\"77.0836\" style=\"font-size:11px;font-style:normal;font-weight:normal;fill-opacity:1;stroke:none;font-family:sans-serif;fill:#FF0000\"><tspan>HO</tspan></text>\n",
       "<text dominant-baseline=\"central\" text-anchor=\"start\" x=\"290.722\" y=\"43.7315\" style=\"font-size:11px;font-style:normal;font-weight:normal;fill-opacity:1;stroke:none;font-family:sans-serif;fill:#FF0000\"><tspan>OH</tspan></text>\n",
       "<text dominant-baseline=\"central\" text-anchor=\"start\" x=\"348.49\" y=\"77.0836\" style=\"font-size:11px;font-style:normal;font-weight:normal;fill-opacity:1;stroke:none;font-family:sans-serif;fill:#FF0000\"><tspan>OH</tspan></text>\n",
       "<text dominant-baseline=\"central\" text-anchor=\"middle\" x=\"300\" y=\"189.8\" style=\"font-size:12px;font-style:normal;font-weight:normal;fill-opacity:1;stroke:none;font-family:sans-serif;fill:#000000\"><tspan>Best Match</tspan></text>\n",
       "</svg>"
      ],
      "text/plain": [
       "<IPython.core.display.SVG object>"
      ]
     },
     "execution_count": 10,
     "metadata": {},
     "output_type": "execute_result"
    }
   ],
   "source": [
    "Draw.MolsToGridImage(\n",
    "    (query_m, match_m),\n",
    "    legends = ('Query', 'Best Match'),\n",
    "    molsPerRow=2, useSVG=True\n",
    ")"
   ]
  }
 ],
 "metadata": {
  "kernelspec": {
   "display_name": "Python 3",
   "language": "python",
   "name": "python3"
  },
  "language_info": {
   "codemirror_mode": {
    "name": "ipython",
    "version": 3
   },
   "file_extension": ".py",
   "mimetype": "text/x-python",
   "name": "python",
   "nbconvert_exporter": "python",
   "pygments_lexer": "ipython3",
   "version": "3.8.3"
  }
 },
 "nbformat": 4,
 "nbformat_minor": 4
}
